{
 "cells": [
  {
   "cell_type": "code",
   "execution_count": 1,
   "metadata": {},
   "outputs": [],
   "source": [
    "import numpy as np\n",
    "import math\n",
    "from pypoman import compute_polytope_vertices\n",
    "\n",
    "np.random.seed(3)"
   ]
  },
  {
   "cell_type": "markdown",
   "metadata": {},
   "source": [
    "# Querying to Estimate - Linear Additive Domain (LAD) Application\n",
    "\n",
    "                                   Adel Magra, Tim Baarslag, Michael Kaisers\n",
    "\n",
    "We are interested in finding an optimal sequence of queries to ask a user to estimate their utility. Optimal is meant in the sense that the sequence should provide the most accurate of estimation for the least query cost. \n",
    "\n",
    "## The Domain\n",
    "\n",
    "The negotiation domain $\\Omega$ is a \"multiple split the pie\" domain. There are $n$ pies that need to be shared between 2 negotiators $N_1$ and $N_2$. We let then $\\Omega = [0,1]^n$, where each outcome $\\omega\\in\\Omega$ corresponds to the amount of each pie given to $N_1$. For example $\\omega = (1,1\\cdots,1,0)$ means $N_1$ gets all the first $n-1$ pies and the last pie goes to $N_2$. $\\omega = (0.5,0.5,\\cdots,0.5)$ means each negotiator gets half of each pie. Here is an illustration for $n=3$ of the outcome $(0.4,0.3,0.5)$ \n",
    "\n",
    "<img src=\"Images/pies.png\" alt=\"Drawing\" style=\"width: 500px;\"/>\n",
    "\n",
    "\n",
    "  \n",
    "   \n",
    "## The Model\n",
    "\n",
    "Assume we are the agent that is representing $N_1$. It is safe to assume that $N_1$ wants more of any given pie. However, the importance attached to getting a particular pie may differ. For this reason, we model the utility of $N_1$ with the following linear addtive utiltiy functions $\\mathcal{U}$:\n",
    "    \n",
    "$$\\mathcal{U}=\\left\\{\\omega\\mapsto\\sum_{i=1}^n \\theta_i\\cdot \\omega_i | \\theta_i\\geq 0 \\forall i, \\sum_{i=1}^n \\theta_i = 1\\right\\}$$\n",
    "\n",
    "We assume that the true utility $u^*$ of $N_1$ is in $\\in\\mathcal{U}$. It follows that we are looking for the corresponding vector of parameters $\\theta^*\\in\\Theta:=\\{\\theta\\in\\mathbb[0.1]^n | \\sum_{i=1}^n\\theta_i=1\\}$.\n",
    "\n"
   ]
  },
  {
   "cell_type": "code",
   "execution_count": 2,
   "metadata": {},
   "outputs": [
    {
     "name": "stdout",
     "output_type": "stream",
     "text": [
      "[0.33688219 0.51840834 0.14470947]\n"
     ]
    }
   ],
   "source": [
    "n = 3 # Number of pies\n",
    "true_theta = np.random.dirichlet([1 for i in range(n)]) # Generate the true parameter uniformly at random\n",
    "\n",
    "'''Computes the utility of an outcome.'''\n",
    "def utility(outcome, theta):\n",
    "    return sum([outcome[i]*theta[i] for i in range(n)])\n",
    "\n",
    "print(true_theta)"
   ]
  },
  {
   "cell_type": "markdown",
   "metadata": {},
   "source": [
    "## Querying\n",
    "\n",
    "It is possible to query the user for information on $u^*$ against a cost. The queries considered are pairwise comparisons of outcomes, namely: \n",
    "\n",
    "$$\\mathcal{Q}=\\{(\\omega\\geq \\omega')? | \\omega,\\omega\\in\\Omega\\}$$\n",
    "\n",
    "where $(\\omega\\geq \\omega')?$ is to be understood as: \"Is $u^*(\\omega)\\geq u^*(\\omega')$ ?\" or \"Do you prefer outcome $\\omega$ over outcome $\\omega'$?\" The possible answers are simply 1 (Yes) if indeed $\\omega$ is prefered, or 0 (No) otherwise. We also assume constant cost of queries. Namely, for each $q\\in\\mathcal{Q}, c(q) = c$"
   ]
  },
  {
   "cell_type": "code",
   "execution_count": 3,
   "metadata": {},
   "outputs": [
    {
     "name": "stdout",
     "output_type": "stream",
     "text": [
      "theta = [0.33688219 0.51840834 0.14470947]\n",
      "u((0,0.5,1)) =  0.4039136405805671\n",
      "u((1,0.5,0)) =  0.596086359419433\n",
      "(1,0.5,0) is prefered over (0,0.5,1)\n"
     ]
    }
   ],
   "source": [
    "query_cost = 0.01 # Constant cost initialization\n",
    "cum_cost = 0 # Cummulative cost\n",
    "\n",
    "def query(outcome_1, outcome_2):\n",
    "    # Update cumulative cost\n",
    "    global cum_cost\n",
    "    global query_cost\n",
    "    cum_cost += query_cost\n",
    "    \n",
    "    # Compute the true utilities of the outcomes and compare them\n",
    "    if(utility(outcome_1, true_theta) >= utility(outcome_2,true_theta)):\n",
    "        return 1\n",
    "    return 0\n",
    "\n",
    "#EXAMPLE#\n",
    "outcome_1 = [0,0.5,1]\n",
    "outcome_2 = [1,0.5,0]\n",
    "print(\"theta =\", true_theta)\n",
    "print(\"u((0,0.5,1)) = \", utility(outcome_1,true_theta))\n",
    "print(\"u((1,0.5,0)) = \", utility(outcome_2,true_theta))\n",
    "\n",
    "if(query(outcome_1,outcome_2)):\n",
    "    print(\"(0,0.5,1) is prefered over (1,0.5,0)\")\n",
    "else:\n",
    "    print(\"(1,0.5,0) is prefered over (0,0.5,1)\")\n",
    "\n",
    "#Reset cum_cost after example\n",
    "cum_cost = 0"
   ]
  },
  {
   "cell_type": "markdown",
   "metadata": {},
   "source": [
    "## Estimation\n",
    "\n",
    "We are allowed to query the user in order to help us achieve obtain an accurate estimation. We want to provide $\\widehat{\\theta}$ that minimizes the worse case loss function. The reason we deal with worse case is because after having asked a bunch of queries $Q$, we only know that $\\theta^*\\in S_{a^*(Q)}$ where $S_{a^*(Q)}$ corresponds to the $\\theta\\in\\Theta$ whose answers to queries in $Q$ are in concordance with the answers $a^*(Q)$ received.\n",
    "\n",
    "### Loss Function\n",
    "\n",
    "The loss function is the squared Euclidean distance:\n",
    "\n",
    "$$\\ell(\\theta,\\theta') = \\sum_{i=1}^n(\\theta_i-\\theta'_i)^2$$\n",
    "\n",
    "The worse case loss over a set $S\\subseteq \\Theta$ is then:\n",
    "\n",
    "$$L(\\theta,S) = \\max_{\\theta'\\in S} \\ell(\\theta,\\theta')$$\n"
   ]
  },
  {
   "cell_type": "code",
   "execution_count": 4,
   "metadata": {},
   "outputs": [
    {
     "name": "stdout",
     "output_type": "stream",
     "text": [
      "theta_1 =  [0.13709495 0.42840826 0.43449679]\n",
      "theta_2 =  [0.32007545 0.55390092 0.12602362]\n",
      "l(theta_1,theta_2) =  0.1443859697647191\n"
     ]
    }
   ],
   "source": [
    "def loss(theta_1, theta_2):\n",
    "    return sum([(theta_1[i]-theta_2[i])*(theta_1[i]-theta_2[i]) for i in range(n)])\n",
    "\n",
    "#EXAMPLE#\n",
    "# Select two random thetas\n",
    "theta_1 = np.random.dirichlet([1 for i in range(n)])\n",
    "theta_2 = np.random.dirichlet([1 for i in range(n)])\n",
    "\n",
    "print(\"theta_1 = \", theta_1)\n",
    "print(\"theta_2 = \", theta_2)\n",
    "print(\"l(theta_1,theta_2) = \", loss(theta_1,theta_2))"
   ]
  },
  {
   "cell_type": "markdown",
   "metadata": {},
   "source": [
    "### Centroid Finder: the min-max Estimation\n",
    "\n",
    "Observe that $S_{a^*(Q)}$ is a closed convex polytope of dimension $n-1$. For example, the first set of possible thetas $\\Theta = S_{a^*(\\varnothing)}$ is the $n-1$ standard simplex $\\Delta^{n-1}$. Here is what $\\Theta$ looks like when $n=3$:\n",
    "\n",
    "<img title=\"Theta in R3\" src=\"Images/std_simplex_3d.png\" alt=\"Drawing\" style=\"width: 500px;\"/>\n",
    "\n",
    "\n",
    "The description we have of the convex polytope $S_{a^*(Q)}$ is the $H-$description ($H$ for half-space). This goes because each answered query $q\\in Q$ can be seen to correspond to an inequality $u^*(\\omega_q)\\geq u^*(\\omega_q')$ which can be carefully rewritten as $\\sum_{i=1}^n x_{q,i} \\theta^*_i\\leq 0$ where $x_{i,q}\\in\\mathbb{R}$. Therefore, we have the following H-description of $S_{a^*(Q)}$:\n",
    "\n",
    "\\begin{equation}\n",
    "\\begin{split}\n",
    "    &\\theta \\in S_{a^*(Q)} \\Longleftrightarrow\\\\\n",
    "    &\\forall i, \\theta_i\\geq 0\\\\\n",
    "    &\\sum_{i=1}^n\\theta_i = 1\\\\\n",
    "    &\\forall q\\in Q, \\sum_{i=1}^n x_{q,i} \\theta_i\\leq 0\n",
    "\\end{split}\n",
    "\\end{equation}\n",
    "\n",
    "The worse case euclidean distance minimizer for a convex polytope is $\\textbf{not obvious}$. But for regular polytopes, it is the centroid point. Given the vertices $v_1,\\cdots,v_k$ of a polytope $P$, its centroid is defined as the average of those points:\n",
    "\n",
    "$$C = \\dfrac{1}{k} \\sum_{i=1}^k v_i$$\n",
    "\n",
    "How do we compute The centroid of $S_{a^*(Q)}$ since we only have the $H$-description of $S_{a^*(Q)}$? Well, we need to find the $V$-description ($V$ for vertex) of $S_{a^*(Q)}$. This is possible thanks to the $\\textbf{compute_polytope_vertices}$ function of the package $\\textbf{pypoman}$ by Stéphane Caron.\n",
    "\n",
    "We are now ready to compute the worse-case loss $L(\\widehat{\\theta},S_{a^*(Q)})$ for any given set $S_{a^*(Q)}$."
   ]
  },
  {
   "cell_type": "code",
   "execution_count": 12,
   "metadata": {},
   "outputs": [
    {
     "data": {
      "text/plain": [
       "(array([0.56521739, 0.2173913 , 0.2173913 ]), 0.28355387523629494)"
      ]
     },
     "execution_count": 12,
     "metadata": {},
     "output_type": "execute_result"
    }
   ],
   "source": [
    "'''\n",
    "INPUT: a list of answered queries\n",
    "An answered query is a 3-tuple of this shape (o_1, o_2, query(o_1,o_2))\n",
    "\n",
    "OUTPUT: The vertex representation of the polytope defined by the answered queries. \n",
    "'''\n",
    "def vertex_rep(answered_queries): \n",
    "    m = len(answered_queries)\n",
    "    \n",
    "    # Initialize the input \n",
    "    A = [[0]*n for i in range((n+2)+m)]\n",
    "    b = [0]*((n+2)+m)\n",
    "    \n",
    "    # Start with the basic n+2 conditions: -theta_i <= 0 and sum(theta_i) <= 1 and sum(-theta_i) <= -1\n",
    "    for i in range(n):\n",
    "        A[i][i] = -1\n",
    "        A[n][i] = 1\n",
    "        A[n+1][i] = -1\n",
    "    b[n] = 1\n",
    "    b[n+1] = -1\n",
    "    \n",
    "    # Continue by converting the answered queries into a valid input for compute_polytope_vertices\n",
    "    for i in range(m):\n",
    "        o_1 = answered_queries[i][0]\n",
    "        o_2 = answered_queries[i][1]\n",
    "        answer = answered_queries[i][2]\n",
    "        \n",
    "        if answer == 1: # Taking care of the inequality sign of u^*(o_1) >= u^*(o_2)\n",
    "            A[i+n+2] = [o_2[j]-o_1[j] for j in range(n)] \n",
    "        else:\n",
    "            A[i+n+2] = [o_1[j]-o_2[j] for j in range(n)]\n",
    "    \n",
    "    # Finish by computing the vertices\n",
    "    return compute_polytope_vertices(np.array(A),np.array(b))\n",
    "  \n",
    "'''\n",
    "INPUT: a list of answered queries.\n",
    "\n",
    "OUTPUT: The centroid and the worse case loss.\n",
    "'''\n",
    "def worse_loss(answered_queries):\n",
    "    v = vertex_rep(answered_queries)\n",
    "    c = sum([p/len(v) for p in v])\n",
    "    \n",
    "    #Compute max loss of centroid to other vertices\n",
    "    w = max([loss(c,p) for p in v])\n",
    "    \n",
    "    return (c,w)\n",
    "\n",
    "\n",
    "\n",
    "worse_loss([([1,0.5,1],[1,1,0.5],1),([0,0.5,1],[1,0.7,0.5],0), ([1,0.5,0],[1,0,0.5],1)])"
   ]
  },
  {
   "cell_type": "markdown",
   "metadata": {},
   "source": [
    "## Querying Algorithms\n",
    "\n",
    "Given a set of answered queries $a^*(Q)$, we can compute its corresponding polytope $S_{a^*(Q)}$. The question we pose is: What is the next query we should ask? Well, we would like to ask the query that minimzes the worse case loss of our estimation on the updated polytope when answered. Namely, we want to find $q^*$ such that:\n",
    "\n",
    "$$q^* = \\text{argmin}_{q\\in \\mathcal{Q}}\\mathbb{E}_{a^*(q)}[L(\\widehat{\\theta},S_{a^*(Q)\\cup a^*(q)}]$$\n",
    "\n",
    "Assuming that queries have a 50-50 chance of being answered Yes or No, we want to find $q^*$ s.t.:\n",
    "\n",
    "$$q^* = \\text{argmin}_{q\\in \\mathcal{Q}} \\dfrac{1}{2}L(\\widehat{\\theta},S_{a^*(Q)\\cup\\{(q,1)\\})}) + \\dfrac{1}{2}L(\\widehat{\\theta},S_{a^*(Q)\\cup\\{(q,0)\\})})$$"
   ]
  },
  {
   "cell_type": "code",
   "execution_count": 5,
   "metadata": {},
   "outputs": [],
   "source": [
    "'''\n",
    "INPUT: list of answered queries Q, query q.\n",
    "\n",
    "OUTPUT: expected worse case loss of centroid estimation when adding q to Q.\n",
    "'''\n",
    "def expected_worse_loss(answered_queries, q):\n",
    "\n",
    "    return 0\n",
    "    "
   ]
  },
  {
   "cell_type": "markdown",
   "metadata": {},
   "source": [
    "### Optimal Querying ($n\\in \\{2,3\\}$)\n",
    "\n",
    "For $n=2$, we begin with $\\Theta$ being the line segment $\\theta_1+\\theta_2 = 1, \\theta_1\\geq 0, \\theta_2\\geq 0$ in $\\mathbb{R}^2$. Each query will cut this segment in two segments. Observe that the centroid of any segment is its midpoint. It follows that the worse-case loss of any segment is equal to half its length. (Note that it is also true that the centroid is the estimator that minimizes the worse case loss).\n",
    "\n",
    "It is easy to see that given a segment, the optimal next query to ask is the one which cuts it in half. We describe this below"
   ]
  },
  {
   "cell_type": "code",
   "execution_count": 6,
   "metadata": {},
   "outputs": [],
   "source": [
    "'''\n",
    "INPUT: A list of answered queries for a domain with 2 pies only, i.e. n=2\n",
    "\n",
    "OUTPUT: A tuple of the best next query to ask and its expected worse case loss\n",
    "'''\n",
    "\n",
    "def opt_query_2(answered_queries):\n",
    "    return 0"
   ]
  },
  {
   "cell_type": "markdown",
   "metadata": {},
   "source": [
    "### Approximation of Optimal Querying\n",
    " \n",
    "For a general number of pies $n\\geq 3$, it becomes harder to find the optimal query analytically. What we rather do is discretize the query space to $\\mathcal{Q}_m$:\n",
    "\n",
    "$$\\mathcal{Q}_m = \\left\\{(\\omega_1,\\cdots,\\omega_n)\\geq (\\omega'_1,\\cdots \\omega'_n)? | \\forall i, \\omega_i,\\omega'_i\\in \\left\\{0,\\dfrac{1}{m},\\cdots,1\\right\\}\\right\\}$$\n",
    "\n",
    "We then do iterate over $\\mathcal{Q}_m$ to find the optimal next query. "
   ]
  },
  {
   "cell_type": "code",
   "execution_count": 7,
   "metadata": {},
   "outputs": [],
   "source": [
    "'''\n",
    "INPUT: A list of answered queries over a domain with any number of pies\n",
    "\n",
    "OUTPUT: A tuple of: (Approximation of the next best query to ask, its expected worse-case loss)\n",
    "'''\n",
    "\n",
    "def approximate_opt_query(answered_queries):\n",
    "    return 0"
   ]
  },
  {
   "cell_type": "markdown",
   "metadata": {},
   "source": [
    "### MRS-Bound"
   ]
  },
  {
   "cell_type": "code",
   "execution_count": null,
   "metadata": {},
   "outputs": [],
   "source": []
  },
  {
   "cell_type": "markdown",
   "metadata": {},
   "source": [
    "## Experiments"
   ]
  },
  {
   "cell_type": "code",
   "execution_count": null,
   "metadata": {},
   "outputs": [],
   "source": []
  }
 ],
 "metadata": {
  "kernelspec": {
   "display_name": "Python 3",
   "language": "python",
   "name": "python3"
  },
  "language_info": {
   "codemirror_mode": {
    "name": "ipython",
    "version": 3
   },
   "file_extension": ".py",
   "mimetype": "text/x-python",
   "name": "python",
   "nbconvert_exporter": "python",
   "pygments_lexer": "ipython3",
   "version": "3.7.6"
  }
 },
 "nbformat": 4,
 "nbformat_minor": 4
}
